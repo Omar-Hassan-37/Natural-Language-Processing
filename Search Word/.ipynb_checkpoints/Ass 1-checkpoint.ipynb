{
 "cells": [
  {
   "cell_type": "code",
   "execution_count": 8,
   "metadata": {},
   "outputs": [],
   "source": [
    "import nltk\n",
    "import os"
   ]
  },
  {
   "cell_type": "code",
   "execution_count": 9,
   "metadata": {},
   "outputs": [],
   "source": [
    "class EventHandler:\n",
    "    def __init__(self, list_widget, entry_widget):\n",
    "            self.list_widget = list_widget\n",
    "            self.entry_widget = entry_widget\n",
    "            self.index=0\n",
    "            self.pred = []\n",
    "    def get_list(self, event):\n",
    "        \n",
    "        #only listen to space key\n",
    "        if event.keysym != 'space':\n",
    "            return\n",
    "        \n",
    "        #clear list\n",
    "        if self.list_widget.size() > 0:\n",
    "            self.list_widget.delete(0,self.list_widget.size())\n",
    "        \n",
    "        entered_text = self.entry_widget.get()\n",
    "        splitted_text = entered_text.strip().split(' ')\n",
    "        \n",
    "\n",
    "        if len(splitted_text) == 1:\n",
    "            #get list of predictions\n",
    "            if splitted_text[0] in freqDist:\n",
    "                self.pred = freqDist[splitted_text[0]]\n",
    "            else:\n",
    "                self.pred=[]\n",
    "\n",
    "            for i in range(5):\n",
    "                if i >= len(self.pred):\n",
    "                    break\n",
    "                self.list_widget.insert(i, self.pred[i][0][0] + ' ' + self.pred[i][0][1])\n",
    "                \n",
    "        elif len(splitted_text) == 2:\n",
    "            pred_second = [w[0][1] for w in self.pred if w[0][0] == splitted_text[1]]\n",
    "            \n",
    "            for i in range(5):\n",
    "                if i >= len(pred_second):\n",
    "                    break\n",
    "                self.list_widget.insert(i, splitted_text[0] + ' ' +splitted_text[1]+ ' ' + pred_second[i])\n",
    "        "
   ]
  },
  {
   "cell_type": "code",
   "execution_count": 10,
   "metadata": {},
   "outputs": [],
   "source": []
  },
  {
   "cell_type": "code",
   "execution_count": 11,
   "metadata": {},
   "outputs": [],
   "source": [
    "\n",
    "directory = 'Sports'\n",
    "os.listdir(directory)\n",
    "\n",
    "tokens = []\n",
    "for w in os.listdir(directory):\n",
    "    tokens.extend(nltk.word_tokenize(\n",
    "        open(directory + '/'+ w, encoding='utf-8').read()\n",
    "             ))\n",
    "    \n",
    "arb_stopwords = set(nltk.corpus.stopwords.words(\"arabic\"))\n",
    "tokens_rem_stop = [w for w in tokens if w not in arb_stopwords]"
   ]
  },
  {
   "cell_type": "code",
   "execution_count": 12,
   "metadata": {},
   "outputs": [],
   "source": [
    "def trigrams(words):\n",
    "    tris=[]\n",
    "    for i in range(0,len(words)-2):\n",
    "        tris.append((words[i], words[i+1], words[i+2]))\n",
    "    return tris\n",
    "\n",
    "trigrams = trigrams(tokens_rem_stop)\n",
    "tri_to_bi = [(w0, (w1, w2)) for w0, w1, w2 in trigrams]\n",
    "\n",
    "freqDist = {}\n",
    "\n",
    "for i in tri_to_bi:\n",
    "\n",
    "    \n",
    "    if i[0] not in freqDist:\n",
    "        freqDist[i[0]] = {i[1]:1}\n",
    "    else:\n",
    "        if i[1] not in freqDist[i[0]]:\n",
    "            freqDist[i[0]][i[1]]=1\n",
    "        else:\n",
    "            freqDist[i[0]][i[1]] += 1\n",
    "            \n",
    "\n",
    "for k in freqDist:\n",
    "    l = []\n",
    "    for j in freqDist[k]:\n",
    "        l.append((j, freqDist[k][j]))\n",
    "    l.sort(key=lambda x: x[1], reverse=True)\n",
    "    freqDist[k] = l\n"
   ]
  },
  {
   "cell_type": "code",
   "execution_count": 13,
   "metadata": {},
   "outputs": [
    {
     "ename": "NameError",
     "evalue": "name 'EventHandler' is not defined",
     "output_type": "error",
     "traceback": [
      "\u001b[1;31m---------------------------------------------------------------------------\u001b[0m",
      "\u001b[1;31mNameError\u001b[0m                                 Traceback (most recent call last)",
      "\u001b[1;32m<ipython-input-13-f4e455071f13>\u001b[0m in \u001b[0;36m<module>\u001b[1;34m\u001b[0m\n\u001b[0;32m      3\u001b[0m \u001b[0mw\u001b[0m \u001b[1;33m=\u001b[0m \u001b[0mtk\u001b[0m\u001b[1;33m.\u001b[0m\u001b[0mListbox\u001b[0m\u001b[1;33m(\u001b[0m\u001b[1;33m)\u001b[0m\u001b[1;33m\u001b[0m\u001b[1;33m\u001b[0m\u001b[0m\n\u001b[0;32m      4\u001b[0m \u001b[0mgreeting\u001b[0m \u001b[1;33m=\u001b[0m \u001b[0mtk\u001b[0m\u001b[1;33m.\u001b[0m\u001b[0mEntry\u001b[0m\u001b[1;33m(\u001b[0m\u001b[1;33m)\u001b[0m\u001b[1;33m\u001b[0m\u001b[1;33m\u001b[0m\u001b[0m\n\u001b[1;32m----> 5\u001b[1;33m \u001b[0me\u001b[0m \u001b[1;33m=\u001b[0m \u001b[0mEventHandler\u001b[0m\u001b[1;33m(\u001b[0m\u001b[0mw\u001b[0m\u001b[1;33m,\u001b[0m \u001b[0mgreeting\u001b[0m\u001b[1;33m)\u001b[0m\u001b[1;33m\u001b[0m\u001b[1;33m\u001b[0m\u001b[0m\n\u001b[0m\u001b[0;32m      6\u001b[0m \u001b[1;33m\u001b[0m\u001b[0m\n\u001b[0;32m      7\u001b[0m \u001b[0mgreeting\u001b[0m\u001b[1;33m.\u001b[0m\u001b[0mbind\u001b[0m\u001b[1;33m(\u001b[0m\u001b[1;34m'<KeyPress>'\u001b[0m\u001b[1;33m,\u001b[0m \u001b[0me\u001b[0m\u001b[1;33m.\u001b[0m\u001b[0mget_list\u001b[0m\u001b[1;33m)\u001b[0m\u001b[1;33m\u001b[0m\u001b[1;33m\u001b[0m\u001b[0m\n",
      "\u001b[1;31mNameError\u001b[0m: name 'EventHandler' is not defined"
     ]
    }
   ],
   "source": [
    "import tkinter as tk\n",
    "window = tk.Tk()\n",
    "w = tk.Listbox()\n",
    "greeting = tk.Entry()\n",
    "e = EventHandler(w, greeting)\n",
    "\n",
    "greeting.bind('<KeyPress>', e.get_list)\n",
    "greeting.pack()\n",
    "\n",
    "\n",
    "\n",
    "w.pack()\n",
    "window.mainloop()"
   ]
  }
 ],
 "metadata": {
  "kernelspec": {
   "display_name": "Python 3",
   "language": "python",
   "name": "python3"
  },
  "language_info": {
   "codemirror_mode": {
    "name": "ipython",
    "version": 3
   },
   "file_extension": ".py",
   "mimetype": "text/x-python",
   "name": "python",
   "nbconvert_exporter": "python",
   "pygments_lexer": "ipython3",
   "version": "3.9.0"
  }
 },
 "nbformat": 4,
 "nbformat_minor": 4
}
